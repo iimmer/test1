{
 "cells": [
  {
   "cell_type": "markdown",
   "metadata": {},
   "source": [
    "# 1.单纯用python实现手写数字识别的神经网络算法"
   ]
  },
  {
   "cell_type": "code",
   "execution_count": 1,
   "metadata": {
    "collapsed": true
   },
   "outputs": [],
   "source": [
    "# 导入标准库\n",
    "import random\n",
    "# 导入numpy\n",
    "import numpy as np"
   ]
  },
  {
   "cell_type": "code",
   "execution_count": 3,
   "metadata": {
    "collapsed": true
   },
   "outputs": [],
   "source": [
    "# 定义一个全链神经网络类\n",
    "class Network(object):\n",
    "   \n",
    "    def __init__(self,sizes):\n",
    "         \"\"\"\n",
    "        定义__init__函数，函数的输入参数是一个列表，列表的每个\n",
    "        值表示每层神经网络中的神经元个数。比如[2,3,1],表示第一\n",
    "        层（输入层）有2个神经元,第二层有3个神经元，第三层有1个\n",
    "        神经元。列表的维度表示网络的层数。\n",
    "        \"\"\"\n",
    "        #列表的长度作为层数传递给num_layers\n",
    "        self.num_layers = len(sizes)\n",
    "        \n",
    "        #神经元的尺寸\n",
    "        self.sizes = sizes\n",
    "        \n",
    "        #初始化偏置，第一层是输入层没有偏置，偏置矩阵列表长度等于\n",
    "        #总层数-1 ，第二层开始到最后一层，每一层的偏置是一个\n",
    "        # n行，1列的np矩阵。n是该层的神经元个数。\n",
    "        self.biases = [np.random.randn(n,1) for n in sizes[1:]]\n",
    "        \n",
    "        # 初始化每层的权重，第一层是输入层，没有权重。第二层开始\n",
    "        #每层的权重是一个np矩阵[n,m] n是当前层的神经元个数，m是\n",
    "        #前一层的神经元个数。权重列表长度等于总层数-1\n",
    "        \n",
    "        self.weights = [np.random.randn(n,m) for \n",
    "                        n,m in zip(sizes[1:],sizes[:-1])]\n",
    "                                                            \n",
    "    \n",
    "    def feedforward(self,a):\n",
    "        \"\"\"\n",
    "        返回 a作为输入值时 神经网络的输出\n",
    "        定义一个feedforward方法来计算从第二层开始每一层神经元的输出值\n",
    "        a=sigmoid（w.*a+b）a 是前一层是输出值,作为当前层的输入值,计算结果再赋值给a作为下一层的输入。\n",
    "        w为当前层的权重矩阵，b为当前层的偏置矩阵\n",
    "        \"\"\"\n",
    "        # self.biases,self.weights中第一个矩阵是第二层的偏置跟权重矩阵,该循环可以迭代计算\n",
    "        # 每一层的输出,直到最后一层.最终返回的a是最后一层是输出.\n",
    "        for b,w in zip(self.biases,self.weights):\n",
    "            \n",
    "            # 前一层输出值a 输入当前层后，当前层的输出值再赋值给a 作为下一层是输入。用sigmoid\n",
    "            # 激活函数。sigmoid 激活函数的定义在类外.\n",
    "            a = sigmoid(np.dot(w,a) + b)\n",
    "        \n",
    "        return a\n",
    "    \n",
    "    # 定义随机梯度下降函数\n",
    "    \n",
    "    def SGD(self,training_data,epochs,mini_batch_size,eta,test_data=None):\n",
    "            \"\"\"\n",
    "            training_data 所有训练数据的集合,并带有标签.是一个(x,y)的元组\n",
    "                          x是输入数据的np矩阵,y是标签.\n",
    "            epochs 迭代次数\n",
    "            mini_batch_size 小批样板的数量 \n",
    "            eta 学习速率\n",
    "            test_data 测试数据,如果测试数据存在,网络将在没次迭代后计算测试数据           \n",
    "            \n",
    "            部分追踪信息会打印出来.便于追踪,但也会拖慢运行速度.\n",
    "            \"\"\"\n",
    "        if test_data : n_test = len(test_data)\n",
    "        \n",
    "        n = len(training_data)\n",
    "                        \n",
    "        for j in range(epochs):\n",
    "            \n",
    "            # 1.随机打乱训练数据顺序.\n",
    "            random.shuffle(training_data)       \n",
    "            \n",
    "            # 2.对打乱后的训练集按小批量大小切片,mini_batches\n",
    "            #   是一个包含小批量样本的列表\n",
    "            mini_batches = [training_data[k:k+mini_batch_size] \n",
    "                            for k in range(0,n,mini_batch_size)]\n",
    "            \n",
    "            # 3.在mini_batches列表中开始循环,每次循环都会根据小批量数据\n",
    "            # 的计算结果更新权重和偏置\n",
    "            for mini_batch in mini_batches:\n",
    "                # 更新权重和偏置\n",
    "                self.update_mini_batch(mini_batch)\n",
    "            \n",
    "            # 4.如果验证数据存在,就用上一步更新后的权重和偏置对测试数据进行评估\n",
    "            # 并打印出\"迭代次数\",\"评估正确数\",\"评估样本总数\"\n",
    "            if test_data:\n",
    "                print(\"Epoch {0}:{1}/{2}\".format(j,self.evaluate(test_data),n_test)\n",
    "            \n",
    "            # 如果没有测试数据,就只打印迭代次数         \n",
    "            else: \n",
    "                print (\"Epoch {0} complete\".format(j))\n",
    "            \n",
    "    def update_mini_batch(self,mini_batch,eta):\n",
    "            \"\"\"\n",
    "            mini_batch 是包含训练数据与标签的元组的列表[(x1,y1),(x2,y2),(x3,y3)...]\n",
    "                       x是训练数据的矩阵,y是对应的标签\n",
    "                       \n",
    "            eta  学习速率\n",
    "            通过随机梯度下降更新网络的权重和偏置.\n",
    "            \n",
    "            \"\"\"\n",
    "           # 按self.biases的大小新建一个0列表.\n",
    "            nabla_b = [np.zeros(b.shape) for b in self.biases]\n",
    "            #按self.weights的大小新建一个0列表\n",
    "            nabla_w = [np.zeros(w.shape) for w in self.weights]\n",
    "            \n",
    "            for x,y in mini_batch:\n",
    "                delta_nabla_b,delta_nabla_w = self.backprop(x,y)\n",
    "                      \n",
    "                      \n",
    "                      \n",
    "    \n",
    "    \n",
    "                      \n",
    "    def backprop(self, x, y):\n",
    "        \"\"\"Return a tuple ``(nabla_b, nabla_w)`` representing the\n",
    "        gradient for the cost function C_x.  ``nabla_b`` and\n",
    "        ``nabla_w`` are layer-by-layer lists of numpy arrays, similar\n",
    "        to ``self.biases`` and ``self.weights``.\n",
    "        \n",
    "        返回一个元组(nabla_b,nabla_w) 表示代价函数C_x的梯度. nabla_b和\n",
    "        nabla_w是每一层的np矩阵的列表.类似于self.biases self.weights\n",
    "        x  是mini_batch中的单个图片的数据.\n",
    "        y  是mini_batch中单个图片的标签.\n",
    "        \n",
    "        \n",
    "        \"\"\"\n",
    "        nabla_b = [np.zeros(b.shape) for b in self.biases]\n",
    "        nabla_w = [np.zeros(w.shape) for w in self.weights]\n",
    "        \n",
    "                      \n",
    "        \"\"\"正向传播,即从前向后计算各层神经网络的输出值\"\"\"             \n",
    "        # activation 是激活函数sigmoid的输出,因为第一层没有权重和偏置,\n",
    "        # 所以第一层的输出就是输入的图片数据,所以用x初始化\n",
    "        activation = x\n",
    "        \n",
    "        # activations 是每一层输出值的列表,这里先将第一层输出作为第一个元素\n",
    "        # 初始化变量.\n",
    "        activations = [x]\n",
    "        \n",
    "        # z是输入的激活函数sigmoid的算子.即 w.*a+b\n",
    "        zs = [] \n",
    "        \n",
    "        # 计算每一层的z和每一层的输出值activation\n",
    "        for b, w in zip(self.biases, self.weights):\n",
    "            #循环第一步,通过第二层的w,b计算第二层的z,activation的初始值x为第一层的输出,即图片数据.\n",
    "            z = np.dot(w, activation)+b\n",
    "            # 将计算的z加入的z的列表zs中\n",
    "            zs.append(z)\n",
    "            # 将第二层的输出值sigmoid(z)赋值给activation\n",
    "            activation = sigmoid(z)\n",
    "            # 将第二层的输出值activation也加入到输出值列表activations中.           \n",
    "            activations.append(activation)\n",
    "        \"\"\"反向传播,即从后向前计算\"\"\"\n",
    "        delta = self.cost_derivative(activations[-1], y) * \\\n",
    "            sigmoid_prime(zs[-1])\n",
    "        nabla_b[-1] = delta\n",
    "        nabla_w[-1] = np.dot(delta, activations[-2].transpose())\n",
    "        # Note that the variable l in the loop below is used a little\n",
    "        # differently to the notation in Chapter 2 of the book.  Here,\n",
    "        # l = 1 means the last layer of neurons, l = 2 is the\n",
    "        # second-last layer, and so on.  It's a renumbering of the\n",
    "        # scheme in the book, used here to take advantage of the fact\n",
    "        # that Python can use negative indices in lists.\n",
    "        for l in xrange(2, self.num_layers):\n",
    "            z = zs[-l]\n",
    "            sp = sigmoid_prime(z)\n",
    "            delta = np.dot(self.weights[-l+1].transpose(), delta) * sp\n",
    "            nabla_b[-l] = delta\n",
    "            nabla_w[-l] = np.dot(delta, activations[-l-1].transpose())\n",
    "        return (nabla_b, nabla_w)\n",
    "\n",
    "\n",
    "        "
   ]
  },
  {
   "cell_type": "code",
   "execution_count": 3,
   "metadata": {},
   "outputs": [
    {
     "name": "stdout",
     "output_type": "stream",
     "text": [
      "Epoch 1:3/4\n"
     ]
    }
   ],
   "source": [
    "print(\"Epoch {0}:{1}/{2}\".format(1,3,4))"
   ]
  },
  {
   "cell_type": "code",
   "execution_count": 4,
   "metadata": {},
   "outputs": [
    {
     "data": {
      "text/plain": [
       "'Epoch 1:3/4'"
      ]
     },
     "execution_count": 4,
     "metadata": {},
     "output_type": "execute_result"
    }
   ],
   "source": [
    "\"Epoch {0}:{1}/{2}\".format(1,3,4)\n"
   ]
  },
  {
   "cell_type": "code",
   "execution_count": 15,
   "metadata": {},
   "outputs": [
    {
     "data": {
      "text/plain": [
       "2"
      ]
     },
     "execution_count": 15,
     "metadata": {},
     "output_type": "execute_result"
    }
   ],
   "source": [
    "len(a\n",
    "   )"
   ]
  },
  {
   "cell_type": "code",
   "execution_count": 8,
   "metadata": {},
   "outputs": [
    {
     "ename": "SyntaxError",
     "evalue": "invalid syntax (<ipython-input-8-ace1125b57f0>, line 1)",
     "output_type": "error",
     "traceback": [
      "\u001b[1;36m  File \u001b[1;32m\"<ipython-input-8-ace1125b57f0>\"\u001b[1;36m, line \u001b[1;32m1\u001b[0m\n\u001b[1;33m    3 *\u001b[0m\n\u001b[1;37m        ^\u001b[0m\n\u001b[1;31mSyntaxError\u001b[0m\u001b[1;31m:\u001b[0m invalid syntax\n"
     ]
    }
   ],
   "source": [
    "3 * \n",
    "4"
   ]
  },
  {
   "cell_type": "code",
   "execution_count": null,
   "metadata": {
    "collapsed": true
   },
   "outputs": [],
   "source": []
  }
 ],
 "metadata": {
  "kernelspec": {
   "display_name": "Python 3",
   "language": "python",
   "name": "python3"
  },
  "language_info": {
   "codemirror_mode": {
    "name": "ipython",
    "version": 3
   },
   "file_extension": ".py",
   "mimetype": "text/x-python",
   "name": "python",
   "nbconvert_exporter": "python",
   "pygments_lexer": "ipython3",
   "version": "3.5.3"
  }
 },
 "nbformat": 4,
 "nbformat_minor": 2
}
