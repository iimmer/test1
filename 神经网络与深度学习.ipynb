{
 "cells": [
  {
   "cell_type": "markdown",
   "metadata": {},
   "source": [
    "# 1.单纯用python实现手写数字识别的神经网络算法"
   ]
  },
  {
   "cell_type": "code",
   "execution_count": 1,
   "metadata": {
    "collapsed": true
   },
   "outputs": [],
   "source": [
    "# 导入标准库\n",
    "import random"
   ]
  },
  {
   "cell_type": "code",
   "execution_count": 2,
   "metadata": {
    "collapsed": true
   },
   "outputs": [],
   "source": [
    "# 导入numpy\n",
    "import numpy as np"
   ]
  },
  {
   "cell_type": "code",
   "execution_count": 3,
   "metadata": {
    "collapsed": true
   },
   "outputs": [],
   "source": [
    "# 定义一个全链神经网络类\n",
    "class Network(object):\n",
    "    \"\"\"\n",
    "    定义__init__函数，函数的输入参数是一个列表，列表的每个\n",
    "    值表示每层神经网络中的神经元个数。比如[2,3,1],表示第一\n",
    "    层（输入层）有2个神经元,第二层有3个神经元，第三层有1个\n",
    "    神经元。列表的维度表示网络的层数。\n",
    "    \"\"\"\n",
    "    def __init__(self,sizes):\n",
    "        \n",
    "        #列表的长度作为层数传递给num_layers\n",
    "        self.num_layers = len(sizes)\n",
    "        \n",
    "        #神经元的尺寸\n",
    "        self.sizes = sizes\n",
    "        \n",
    "        #初始化偏置，第一层是输入层没有偏置，偏置矩阵列表长度等于\n",
    "        #总层数-1 ，第二层开始到最后一层，每一层的偏置是一个\n",
    "        # n行，1列的np矩阵。n是该层的神经元个数。\n",
    "        self.biases = [np.random.randn(n,1) for n in sizes[1:]]\n",
    "        \n",
    "        # 初始化每层的权重，第一层是输入层，没有权重。第二层开始\n",
    "        #每层的权重是一个np矩阵[n,m] n是当前层的神经元个数，m是\n",
    "        #前一层的神经元个数。权重列表长度等于总层数-1\n",
    "        \n",
    "        self.weights = [np.random.randn(n,m) for \n",
    "                        n,m in zip(sizes[1:],sizes[:-1])]\n",
    "                                                            \n",
    "    # 定义一个feedforward方法来计算从第二层开始每一层神经元的输出值\n",
    "    # 输出值=sigmoid（w.*a+b）a 是前一层是输出列表。w为当前层的权重\n",
    "    # 矩阵，b为当前层的偏置矩阵\n",
    "    def feedforward(self,a):\n",
    "        \n",
    "        #self.biases,self.weights中第一个矩阵是第二层的偏置跟权重矩阵\n",
    "        for b,w in zip(self.biases,self.weights):\n",
    "            \n",
    "            #返回前一层输出值a输入当前层后，当前层是输出。用sigmoid\n",
    "            #激活函数。\n",
    "            return sigmoid(np.dot(w,a) + b)\n",
    "    \n",
    "    #定义随机梯度下降函数\n",
    "    \n",
    "    \n",
    "    \n",
    "    \n",
    "        "
   ]
  },
  {
   "cell_type": "code",
   "execution_count": 4,
   "metadata": {
    "collapsed": true
   },
   "outputs": [],
   "source": [
    "a=[2,3,1]\n"
   ]
  },
  {
   "cell_type": "code",
   "execution_count": 14,
   "metadata": {},
   "outputs": [
    {
     "data": {
      "text/plain": [
       "[2, 3]"
      ]
     },
     "execution_count": 14,
     "metadata": {},
     "output_type": "execute_result"
    }
   ],
   "source": [
    "a"
   ]
  },
  {
   "cell_type": "code",
   "execution_count": 15,
   "metadata": {},
   "outputs": [
    {
     "data": {
      "text/plain": [
       "2"
      ]
     },
     "execution_count": 15,
     "metadata": {},
     "output_type": "execute_result"
    }
   ],
   "source": [
    "len(a\n",
    "   )"
   ]
  },
  {
   "cell_type": "code",
   "execution_count": null,
   "metadata": {
    "collapsed": true
   },
   "outputs": [],
   "source": []
  }
 ],
 "metadata": {
  "kernelspec": {
   "display_name": "Python 3",
   "language": "python",
   "name": "python3"
  },
  "language_info": {
   "codemirror_mode": {
    "name": "ipython",
    "version": 3
   },
   "file_extension": ".py",
   "mimetype": "text/x-python",
   "name": "python",
   "nbconvert_exporter": "python",
   "pygments_lexer": "ipython3",
   "version": "3.6.1"
  }
 },
 "nbformat": 4,
 "nbformat_minor": 2
}
